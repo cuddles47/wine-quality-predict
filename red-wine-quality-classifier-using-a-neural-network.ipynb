{
 "cells": [
  {
   "cell_type": "markdown",
   "id": "universal-discount",
   "metadata": {
    "id": "controlled-duration",
    "papermill": {
     "duration": 0.026437,
     "end_time": "2021-04-06T13:50:32.770853",
     "exception": false,
     "start_time": "2021-04-06T13:50:32.744416",
     "status": "completed"
    },
    "tags": []
   },
   "source": [
    "[](http://)<h1>Red wine quality classifier using deep feedforward network</h1>"
   ]
  },
  {
   "cell_type": "markdown",
   "id": "flush-richards",
   "metadata": {
    "id": "removable-affect",
    "papermill": {
     "duration": 0.02354,
     "end_time": "2021-04-06T13:50:32.818477",
     "exception": false,
     "start_time": "2021-04-06T13:50:32.794937",
     "status": "completed"
    },
    "tags": []
   },
   "source": [
    "Data provided by the UCI:\n",
    "     https://archive.ics.uci.edu/ml/datasets/wine+quality "
   ]
  },
  {
   "cell_type": "markdown",
   "id": "deluxe-watershed",
   "metadata": {
    "id": "specified-affect",
    "papermill": {
     "duration": 0.022899,
     "end_time": "2021-04-06T13:50:32.864449",
     "exception": false,
     "start_time": "2021-04-06T13:50:32.841550",
     "status": "completed"
    },
    "tags": []
   },
   "source": [
    "<h3>Imports</h3>"
   ]
  },
  {
   "cell_type": "markdown",
   "id": "smaller-hospital",
   "metadata": {
    "id": "consolidated-surgery",
    "papermill": {
     "duration": 0.022808,
     "end_time": "2021-04-06T13:50:32.913109",
     "exception": false,
     "start_time": "2021-04-06T13:50:32.890301",
     "status": "completed"
    },
    "tags": []
   },
   "source": [
    "Libraries import"
   ]
  },
  {
   "cell_type": "code",
   "execution_count": 1,
   "id": "musical-basis",
   "metadata": {
    "execution": {
     "iopub.execute_input": "2021-04-06T13:50:32.964263Z",
     "iopub.status.busy": "2021-04-06T13:50:32.963682Z",
     "iopub.status.idle": "2021-04-06T13:50:38.721526Z",
     "shell.execute_reply": "2021-04-06T13:50:38.720674Z"
    },
    "id": "figured-mercury",
    "papermill": {
     "duration": 5.784857,
     "end_time": "2021-04-06T13:50:38.721679",
     "exception": false,
     "start_time": "2021-04-06T13:50:32.936822",
     "status": "completed"
    },
    "tags": []
   },
   "outputs": [],
   "source": [
    "import pandas as pd\n",
    "import numpy as np\n",
    "import tensorflow as tf\n",
    "import matplotlib.pyplot as plt\n",
    "import seaborn as sb\n",
    "from sklearn.preprocessing import StandardScaler, LabelEncoder"
   ]
  },
  {
   "cell_type": "markdown",
   "id": "accompanied-platform",
   "metadata": {
    "id": "expanded-boards",
    "papermill": {
     "duration": 0.025166,
     "end_time": "2021-04-06T13:50:38.772587",
     "exception": false,
     "start_time": "2021-04-06T13:50:38.747421",
     "status": "completed"
    },
    "tags": []
   },
   "source": [
    "Data import"
   ]
  },
  {
   "cell_type": "code",
   "execution_count": 2,
   "id": "encouraging-lottery",
   "metadata": {
    "execution": {
     "iopub.execute_input": "2021-04-06T13:50:38.826777Z",
     "iopub.status.busy": "2021-04-06T13:50:38.826136Z",
     "iopub.status.idle": "2021-04-06T13:50:38.878680Z",
     "shell.execute_reply": "2021-04-06T13:50:38.879117Z"
    },
    "id": "internal-trinidad",
    "outputId": "f5116ae1-9fd4-463a-95a3-0fd6243bce53",
    "papermill": {
     "duration": 0.082051,
     "end_time": "2021-04-06T13:50:38.879276",
     "exception": false,
     "start_time": "2021-04-06T13:50:38.797225",
     "status": "completed"
    },
    "tags": []
   },
   "outputs": [
    {
     "data": {
      "text/html": [
       "<div>\n",
       "<style scoped>\n",
       "    .dataframe tbody tr th:only-of-type {\n",
       "        vertical-align: middle;\n",
       "    }\n",
       "\n",
       "    .dataframe tbody tr th {\n",
       "        vertical-align: top;\n",
       "    }\n",
       "\n",
       "    .dataframe thead th {\n",
       "        text-align: right;\n",
       "    }\n",
       "</style>\n",
       "<table border=\"1\" class=\"dataframe\">\n",
       "  <thead>\n",
       "    <tr style=\"text-align: right;\">\n",
       "      <th></th>\n",
       "      <th>fixed acidity</th>\n",
       "      <th>volatile acidity</th>\n",
       "      <th>citric acid</th>\n",
       "      <th>residual sugar</th>\n",
       "      <th>chlorides</th>\n",
       "      <th>free sulfur dioxide</th>\n",
       "      <th>total sulfur dioxide</th>\n",
       "      <th>density</th>\n",
       "      <th>pH</th>\n",
       "      <th>sulphates</th>\n",
       "      <th>alcohol</th>\n",
       "      <th>quality</th>\n",
       "    </tr>\n",
       "  </thead>\n",
       "  <tbody>\n",
       "    <tr>\n",
       "      <th>0</th>\n",
       "      <td>7.4</td>\n",
       "      <td>0.70</td>\n",
       "      <td>0.00</td>\n",
       "      <td>1.9</td>\n",
       "      <td>0.076</td>\n",
       "      <td>11.0</td>\n",
       "      <td>34.0</td>\n",
       "      <td>0.9978</td>\n",
       "      <td>3.51</td>\n",
       "      <td>0.56</td>\n",
       "      <td>9.4</td>\n",
       "      <td>5</td>\n",
       "    </tr>\n",
       "    <tr>\n",
       "      <th>1</th>\n",
       "      <td>7.8</td>\n",
       "      <td>0.88</td>\n",
       "      <td>0.00</td>\n",
       "      <td>2.6</td>\n",
       "      <td>0.098</td>\n",
       "      <td>25.0</td>\n",
       "      <td>67.0</td>\n",
       "      <td>0.9968</td>\n",
       "      <td>3.20</td>\n",
       "      <td>0.68</td>\n",
       "      <td>9.8</td>\n",
       "      <td>5</td>\n",
       "    </tr>\n",
       "    <tr>\n",
       "      <th>2</th>\n",
       "      <td>7.8</td>\n",
       "      <td>0.76</td>\n",
       "      <td>0.04</td>\n",
       "      <td>2.3</td>\n",
       "      <td>0.092</td>\n",
       "      <td>15.0</td>\n",
       "      <td>54.0</td>\n",
       "      <td>0.9970</td>\n",
       "      <td>3.26</td>\n",
       "      <td>0.65</td>\n",
       "      <td>9.8</td>\n",
       "      <td>5</td>\n",
       "    </tr>\n",
       "    <tr>\n",
       "      <th>3</th>\n",
       "      <td>11.2</td>\n",
       "      <td>0.28</td>\n",
       "      <td>0.56</td>\n",
       "      <td>1.9</td>\n",
       "      <td>0.075</td>\n",
       "      <td>17.0</td>\n",
       "      <td>60.0</td>\n",
       "      <td>0.9980</td>\n",
       "      <td>3.16</td>\n",
       "      <td>0.58</td>\n",
       "      <td>9.8</td>\n",
       "      <td>6</td>\n",
       "    </tr>\n",
       "    <tr>\n",
       "      <th>4</th>\n",
       "      <td>7.4</td>\n",
       "      <td>0.70</td>\n",
       "      <td>0.00</td>\n",
       "      <td>1.9</td>\n",
       "      <td>0.076</td>\n",
       "      <td>11.0</td>\n",
       "      <td>34.0</td>\n",
       "      <td>0.9978</td>\n",
       "      <td>3.51</td>\n",
       "      <td>0.56</td>\n",
       "      <td>9.4</td>\n",
       "      <td>5</td>\n",
       "    </tr>\n",
       "  </tbody>\n",
       "</table>\n",
       "</div>"
      ],
      "text/plain": [
       "   fixed acidity  volatile acidity  citric acid  residual sugar  chlorides  \\\n",
       "0            7.4              0.70         0.00             1.9      0.076   \n",
       "1            7.8              0.88         0.00             2.6      0.098   \n",
       "2            7.8              0.76         0.04             2.3      0.092   \n",
       "3           11.2              0.28         0.56             1.9      0.075   \n",
       "4            7.4              0.70         0.00             1.9      0.076   \n",
       "\n",
       "   free sulfur dioxide  total sulfur dioxide  density    pH  sulphates  \\\n",
       "0                 11.0                  34.0   0.9978  3.51       0.56   \n",
       "1                 25.0                  67.0   0.9968  3.20       0.68   \n",
       "2                 15.0                  54.0   0.9970  3.26       0.65   \n",
       "3                 17.0                  60.0   0.9980  3.16       0.58   \n",
       "4                 11.0                  34.0   0.9978  3.51       0.56   \n",
       "\n",
       "   alcohol  quality  \n",
       "0      9.4        5  \n",
       "1      9.8        5  \n",
       "2      9.8        5  \n",
       "3      9.8        6  \n",
       "4      9.4        5  "
      ]
     },
     "metadata": {},
     "output_type": "display_data"
    }
   ],
   "source": [
    "wine_data = pd.read_csv('../input/red-wine-quality-cortez-et-al-2009/winequality-red.csv')\n",
    "display(wine_data.head())"
   ]
  },
  {
   "cell_type": "code",
   "execution_count": 3,
   "id": "annual-insert",
   "metadata": {
    "execution": {
     "iopub.execute_input": "2021-04-06T13:50:38.940357Z",
     "iopub.status.busy": "2021-04-06T13:50:38.935965Z",
     "iopub.status.idle": "2021-04-06T13:50:38.986377Z",
     "shell.execute_reply": "2021-04-06T13:50:38.985750Z"
    },
    "id": "floppy-campaign",
    "outputId": "874df987-6ca4-408f-934e-d2a76f7e6c4b",
    "papermill": {
     "duration": 0.080847,
     "end_time": "2021-04-06T13:50:38.986513",
     "exception": false,
     "start_time": "2021-04-06T13:50:38.905666",
     "status": "completed"
    },
    "tags": []
   },
   "outputs": [
    {
     "data": {
      "text/html": [
       "<div>\n",
       "<style scoped>\n",
       "    .dataframe tbody tr th:only-of-type {\n",
       "        vertical-align: middle;\n",
       "    }\n",
       "\n",
       "    .dataframe tbody tr th {\n",
       "        vertical-align: top;\n",
       "    }\n",
       "\n",
       "    .dataframe thead th {\n",
       "        text-align: right;\n",
       "    }\n",
       "</style>\n",
       "<table border=\"1\" class=\"dataframe\">\n",
       "  <thead>\n",
       "    <tr style=\"text-align: right;\">\n",
       "      <th></th>\n",
       "      <th>fixed acidity</th>\n",
       "      <th>volatile acidity</th>\n",
       "      <th>citric acid</th>\n",
       "      <th>residual sugar</th>\n",
       "      <th>chlorides</th>\n",
       "      <th>free sulfur dioxide</th>\n",
       "      <th>total sulfur dioxide</th>\n",
       "      <th>density</th>\n",
       "      <th>pH</th>\n",
       "      <th>sulphates</th>\n",
       "      <th>alcohol</th>\n",
       "      <th>quality</th>\n",
       "    </tr>\n",
       "  </thead>\n",
       "  <tbody>\n",
       "    <tr>\n",
       "      <th>count</th>\n",
       "      <td>1599.000000</td>\n",
       "      <td>1599.000000</td>\n",
       "      <td>1599.000000</td>\n",
       "      <td>1599.000000</td>\n",
       "      <td>1599.000000</td>\n",
       "      <td>1599.000000</td>\n",
       "      <td>1599.000000</td>\n",
       "      <td>1599.000000</td>\n",
       "      <td>1599.000000</td>\n",
       "      <td>1599.000000</td>\n",
       "      <td>1599.000000</td>\n",
       "      <td>1599.000000</td>\n",
       "    </tr>\n",
       "    <tr>\n",
       "      <th>mean</th>\n",
       "      <td>8.319637</td>\n",
       "      <td>0.527821</td>\n",
       "      <td>0.270976</td>\n",
       "      <td>2.538806</td>\n",
       "      <td>0.087467</td>\n",
       "      <td>15.874922</td>\n",
       "      <td>46.467792</td>\n",
       "      <td>0.996747</td>\n",
       "      <td>3.311113</td>\n",
       "      <td>0.658149</td>\n",
       "      <td>10.422983</td>\n",
       "      <td>5.636023</td>\n",
       "    </tr>\n",
       "    <tr>\n",
       "      <th>std</th>\n",
       "      <td>1.741096</td>\n",
       "      <td>0.179060</td>\n",
       "      <td>0.194801</td>\n",
       "      <td>1.409928</td>\n",
       "      <td>0.047065</td>\n",
       "      <td>10.460157</td>\n",
       "      <td>32.895324</td>\n",
       "      <td>0.001887</td>\n",
       "      <td>0.154386</td>\n",
       "      <td>0.169507</td>\n",
       "      <td>1.065668</td>\n",
       "      <td>0.807569</td>\n",
       "    </tr>\n",
       "    <tr>\n",
       "      <th>min</th>\n",
       "      <td>4.600000</td>\n",
       "      <td>0.120000</td>\n",
       "      <td>0.000000</td>\n",
       "      <td>0.900000</td>\n",
       "      <td>0.012000</td>\n",
       "      <td>1.000000</td>\n",
       "      <td>6.000000</td>\n",
       "      <td>0.990070</td>\n",
       "      <td>2.740000</td>\n",
       "      <td>0.330000</td>\n",
       "      <td>8.400000</td>\n",
       "      <td>3.000000</td>\n",
       "    </tr>\n",
       "    <tr>\n",
       "      <th>25%</th>\n",
       "      <td>7.100000</td>\n",
       "      <td>0.390000</td>\n",
       "      <td>0.090000</td>\n",
       "      <td>1.900000</td>\n",
       "      <td>0.070000</td>\n",
       "      <td>7.000000</td>\n",
       "      <td>22.000000</td>\n",
       "      <td>0.995600</td>\n",
       "      <td>3.210000</td>\n",
       "      <td>0.550000</td>\n",
       "      <td>9.500000</td>\n",
       "      <td>5.000000</td>\n",
       "    </tr>\n",
       "    <tr>\n",
       "      <th>50%</th>\n",
       "      <td>7.900000</td>\n",
       "      <td>0.520000</td>\n",
       "      <td>0.260000</td>\n",
       "      <td>2.200000</td>\n",
       "      <td>0.079000</td>\n",
       "      <td>14.000000</td>\n",
       "      <td>38.000000</td>\n",
       "      <td>0.996750</td>\n",
       "      <td>3.310000</td>\n",
       "      <td>0.620000</td>\n",
       "      <td>10.200000</td>\n",
       "      <td>6.000000</td>\n",
       "    </tr>\n",
       "    <tr>\n",
       "      <th>75%</th>\n",
       "      <td>9.200000</td>\n",
       "      <td>0.640000</td>\n",
       "      <td>0.420000</td>\n",
       "      <td>2.600000</td>\n",
       "      <td>0.090000</td>\n",
       "      <td>21.000000</td>\n",
       "      <td>62.000000</td>\n",
       "      <td>0.997835</td>\n",
       "      <td>3.400000</td>\n",
       "      <td>0.730000</td>\n",
       "      <td>11.100000</td>\n",
       "      <td>6.000000</td>\n",
       "    </tr>\n",
       "    <tr>\n",
       "      <th>max</th>\n",
       "      <td>15.900000</td>\n",
       "      <td>1.580000</td>\n",
       "      <td>1.000000</td>\n",
       "      <td>15.500000</td>\n",
       "      <td>0.611000</td>\n",
       "      <td>72.000000</td>\n",
       "      <td>289.000000</td>\n",
       "      <td>1.003690</td>\n",
       "      <td>4.010000</td>\n",
       "      <td>2.000000</td>\n",
       "      <td>14.900000</td>\n",
       "      <td>8.000000</td>\n",
       "    </tr>\n",
       "  </tbody>\n",
       "</table>\n",
       "</div>"
      ],
      "text/plain": [
       "       fixed acidity  volatile acidity  citric acid  residual sugar  \\\n",
       "count    1599.000000       1599.000000  1599.000000     1599.000000   \n",
       "mean        8.319637          0.527821     0.270976        2.538806   \n",
       "std         1.741096          0.179060     0.194801        1.409928   \n",
       "min         4.600000          0.120000     0.000000        0.900000   \n",
       "25%         7.100000          0.390000     0.090000        1.900000   \n",
       "50%         7.900000          0.520000     0.260000        2.200000   \n",
       "75%         9.200000          0.640000     0.420000        2.600000   \n",
       "max        15.900000          1.580000     1.000000       15.500000   \n",
       "\n",
       "         chlorides  free sulfur dioxide  total sulfur dioxide      density  \\\n",
       "count  1599.000000          1599.000000           1599.000000  1599.000000   \n",
       "mean      0.087467            15.874922             46.467792     0.996747   \n",
       "std       0.047065            10.460157             32.895324     0.001887   \n",
       "min       0.012000             1.000000              6.000000     0.990070   \n",
       "25%       0.070000             7.000000             22.000000     0.995600   \n",
       "50%       0.079000            14.000000             38.000000     0.996750   \n",
       "75%       0.090000            21.000000             62.000000     0.997835   \n",
       "max       0.611000            72.000000            289.000000     1.003690   \n",
       "\n",
       "                pH    sulphates      alcohol      quality  \n",
       "count  1599.000000  1599.000000  1599.000000  1599.000000  \n",
       "mean      3.311113     0.658149    10.422983     5.636023  \n",
       "std       0.154386     0.169507     1.065668     0.807569  \n",
       "min       2.740000     0.330000     8.400000     3.000000  \n",
       "25%       3.210000     0.550000     9.500000     5.000000  \n",
       "50%       3.310000     0.620000    10.200000     6.000000  \n",
       "75%       3.400000     0.730000    11.100000     6.000000  \n",
       "max       4.010000     2.000000    14.900000     8.000000  "
      ]
     },
     "metadata": {},
     "output_type": "display_data"
    },
    {
     "data": {
      "text/plain": [
       "5    681\n",
       "6    638\n",
       "7    199\n",
       "4     53\n",
       "8     18\n",
       "3     10\n",
       "Name: quality, dtype: int64"
      ]
     },
     "execution_count": 3,
     "metadata": {},
     "output_type": "execute_result"
    }
   ],
   "source": [
    "display(wine_data.describe())\n",
    "wine_data['quality'].value_counts()"
   ]
  },
  {
   "cell_type": "markdown",
   "id": "cultural-collectible",
   "metadata": {
    "id": "manufactured-invalid",
    "papermill": {
     "duration": 0.027053,
     "end_time": "2021-04-06T13:50:39.041298",
     "exception": false,
     "start_time": "2021-04-06T13:50:39.014245",
     "status": "completed"
    },
    "tags": []
   },
   "source": [
    "<h3>Handling misssing data</h3>"
   ]
  },
  {
   "cell_type": "code",
   "execution_count": 4,
   "id": "characteristic-offense",
   "metadata": {
    "execution": {
     "iopub.execute_input": "2021-04-06T13:50:39.103302Z",
     "iopub.status.busy": "2021-04-06T13:50:39.100575Z",
     "iopub.status.idle": "2021-04-06T13:50:39.107763Z",
     "shell.execute_reply": "2021-04-06T13:50:39.107116Z"
    },
    "id": "grateful-evolution",
    "outputId": "089af2b0-fbbd-4cac-8e48-983239e85e23",
    "papermill": {
     "duration": 0.039163,
     "end_time": "2021-04-06T13:50:39.107890",
     "exception": false,
     "start_time": "2021-04-06T13:50:39.068727",
     "status": "completed"
    },
    "tags": []
   },
   "outputs": [
    {
     "data": {
      "text/plain": [
       "fixed acidity           0\n",
       "volatile acidity        0\n",
       "citric acid             0\n",
       "residual sugar          0\n",
       "chlorides               0\n",
       "free sulfur dioxide     0\n",
       "total sulfur dioxide    0\n",
       "density                 0\n",
       "pH                      0\n",
       "sulphates               0\n",
       "alcohol                 0\n",
       "quality                 0\n",
       "dtype: int64"
      ]
     },
     "execution_count": 4,
     "metadata": {},
     "output_type": "execute_result"
    }
   ],
   "source": [
    "wine_data.isnull().sum()"
   ]
  },
  {
   "cell_type": "markdown",
   "id": "square-distance",
   "metadata": {
    "id": "confident-ethiopia",
    "papermill": {
     "duration": 0.026875,
     "end_time": "2021-04-06T13:50:39.162710",
     "exception": false,
     "start_time": "2021-04-06T13:50:39.135835",
     "status": "completed"
    },
    "tags": []
   },
   "source": [
    "<h2>Exploratory Data Analysis</h2>"
   ]
  },
  {
   "cell_type": "markdown",
   "id": "portable-conditioning",
   "metadata": {
    "id": "grateful-local",
    "papermill": {
     "duration": 0.027301,
     "end_time": "2021-04-06T13:50:39.216883",
     "exception": false,
     "start_time": "2021-04-06T13:50:39.189582",
     "status": "completed"
    },
    "tags": []
   },
   "source": [
    "<h4>Correlation matrix</h4>"
   ]
  },
  {
   "cell_type": "code",
   "execution_count": 5,
   "id": "powered-holmes",
   "metadata": {
    "execution": {
     "iopub.execute_input": "2021-04-06T13:50:39.290798Z",
     "iopub.status.busy": "2021-04-06T13:50:39.290155Z",
     "iopub.status.idle": "2021-04-06T13:50:40.228641Z",
     "shell.execute_reply": "2021-04-06T13:50:40.229107Z"
    },
    "id": "expired-quebec",
    "outputId": "bbdd60f3-ab81-4539-d05c-bfe07f52a712",
    "papermill": {
     "duration": 0.985651,
     "end_time": "2021-04-06T13:50:40.229301",
     "exception": false,
     "start_time": "2021-04-06T13:50:39.243650",
     "status": "completed"
    },
    "scrolled": true,
    "tags": []
   },
   "outputs": [
    {
     "data": {
      "image/png": "[encoded data removed]",
      "text/plain": [
       "<Figure size 720x504 with 2 Axes>"
      ]
     },
     "metadata": {
      "needs_background": "light"
     },
     "output_type": "display_data"
    }
   ],
   "source": [
    "fig , ax = plt.subplots(figsize = (10,7))\n",
    "sb.heatmap(wine_data.corr() , annot = True , ax = ax)\n",
    "plt.show()"
   ]
  },
  {
   "cell_type": "markdown",
   "id": "recovered-sending",
   "metadata": {
    "id": "dimensional-bedroom",
    "papermill": {
     "duration": 0.031543,
     "end_time": "2021-04-06T13:50:40.292479",
     "exception": false,
     "start_time": "2021-04-06T13:50:40.260936",
     "status": "completed"
    },
    "tags": []
   },
   "source": [
    "<h4>Scatter plot: Fixed acidity - Density</h4>"
   ]
  },
  {
   "cell_type": "code",
   "execution_count": 6,
   "id": "subject-mississippi",
   "metadata": {
    "execution": {
     "iopub.execute_input": "2021-04-06T13:50:40.358712Z",
     "iopub.status.busy": "2021-04-06T13:50:40.358132Z",
     "iopub.status.idle": "2021-04-06T13:50:40.755079Z",
     "shell.execute_reply": "2021-04-06T13:50:40.755695Z"
    },
    "id": "arabic-novelty",
    "outputId": "a745ef0c-fa07-4175-8640-26654b84cefa",
    "papermill": {
     "duration": 0.431979,
     "end_time": "2021-04-06T13:50:40.755867",
     "exception": false,
     "start_time": "2021-04-06T13:50:40.323888",
     "status": "completed"
    },
    "tags": []
   },
   "outputs": [
    {
     "data": {
      "text/plain": [
       "<AxesSubplot:xlabel='fixed acidity', ylabel='density'>"
      ]
     },
     "execution_count": 6,
     "metadata": {},
     "output_type": "execute_result"
    },
    {
     "data": {
      "image/png": "[encoded data removed]",
      "text/plain": [
       "<Figure size 720x504 with 1 Axes>"
      ]
     },
     "metadata": {
      "needs_background": "light"
     },
     "output_type": "display_data"
    }
   ],
   "source": [
    "plt.figure(figsize = (10 , 7))\n",
    "sb.scatterplot(x = \"fixed acidity\", y = \"density\", hue = \"quality\",data = wine_data, alpha = 0.7, palette = \"Set1\")"
   ]
  },
  {
   "cell_type": "markdown",
   "id": "descending-flavor",
   "metadata": {
    "id": "emotional-tuner",
    "papermill": {
     "duration": 0.034233,
     "end_time": "2021-04-06T13:50:40.824850",
     "exception": false,
     "start_time": "2021-04-06T13:50:40.790617",
     "status": "completed"
    },
    "tags": []
   },
   "source": [
    "<h2>Data preprocessing</h2>"
   ]
  },
  {
   "cell_type": "markdown",
   "id": "normal-alexander",
   "metadata": {
    "id": "attempted-sunset",
    "papermill": {
     "duration": 0.034407,
     "end_time": "2021-04-06T13:50:40.893184",
     "exception": false,
     "start_time": "2021-04-06T13:50:40.858777",
     "status": "completed"
    },
    "tags": []
   },
   "source": [
    "<h3>Features reduction</h3>"
   ]
  },
  {
   "cell_type": "markdown",
   "id": "responsible-genealogy",
   "metadata": {
    "id": "perceived-channel",
    "papermill": {
     "duration": 0.034085,
     "end_time": "2021-04-06T13:50:40.962215",
     "exception": false,
     "start_time": "2021-04-06T13:50:40.928130",
     "status": "completed"
    },
    "tags": []
   },
   "source": [
    "<h4>Using random forrest to analyse the feature importance</h4>"
   ]
  },
  {
   "cell_type": "code",
   "execution_count": 7,
   "id": "authorized-switzerland",
   "metadata": {
    "execution": {
     "iopub.execute_input": "2021-04-06T13:50:41.034181Z",
     "iopub.status.busy": "2021-04-06T13:50:41.033584Z",
     "iopub.status.idle": "2021-04-06T13:50:42.229971Z",
     "shell.execute_reply": "2021-04-06T13:50:42.229377Z"
    },
    "id": "greatest-treasury",
    "outputId": "d12a206d-1a63-4ef5-c442-f6a57f1d9fbf",
    "papermill": {
     "duration": 1.233775,
     "end_time": "2021-04-06T13:50:42.230121",
     "exception": false,
     "start_time": "2021-04-06T13:50:40.996346",
     "status": "completed"
    },
    "tags": []
   },
   "outputs": [
    {
     "data": {
      "text/plain": [
       "array([0.05049791, 0.13604892, 0.04475298, 0.05247952, 0.05881777,\n",
       "       0.0458654 , 0.07643178, 0.0515247 , 0.05821171, 0.14268737,\n",
       "       0.28268191])"
      ]
     },
     "metadata": {},
     "output_type": "display_data"
    }
   ],
   "source": [
    "from sklearn.ensemble import RandomForestRegressor\n",
    "\n",
    "model = RandomForestRegressor(random_state=1, max_depth=12)\n",
    "x = wine_data.drop(['quality'] , axis = 1)\n",
    "wd = pd.get_dummies(wine_data)\n",
    "model.fit(x, wine_data.quality)\n",
    "display(model.feature_importances_)"
   ]
  },
  {
   "cell_type": "code",
   "execution_count": 8,
   "id": "solved-residence",
   "metadata": {
    "execution": {
     "iopub.execute_input": "2021-04-06T13:50:42.307594Z",
     "iopub.status.busy": "2021-04-06T13:50:42.306979Z",
     "iopub.status.idle": "2021-04-06T13:50:42.482662Z",
     "shell.execute_reply": "2021-04-06T13:50:42.483139Z"
    },
    "id": "fabulous-slovakia",
    "outputId": "1949d6e3-1b0c-4a86-f90d-576b58fa9542",
    "papermill": {
     "duration": 0.21929,
     "end_time": "2021-04-06T13:50:42.483308",
     "exception": false,
     "start_time": "2021-04-06T13:50:42.264018",
     "status": "completed"
    },
    "tags": []
   },
   "outputs": [
    {
     "data": {
      "image/png": "[encoded data removed]",
      "text/plain": [
       "<Figure size 432x288 with 1 Axes>"
      ]
     },
     "metadata": {
      "needs_background": "light"
     },
     "output_type": "display_data"
    }
   ],
   "source": [
    "features = wd.columns\n",
    "importances = model.feature_importances_\n",
    "indices = np.argsort(importances)[:]\n",
    "plt.title('Feature Importances')\n",
    "plt.barh(range(len(indices)), importances[indices], color='b', align='center')\n",
    "plt.yticks(range(len(indices)), [features[i] for i in indices])\n",
    "plt.xlabel('Relative Importance')\n",
    "plt.show()"
   ]
  },
  {
   "cell_type": "markdown",
   "id": "annoying-acquisition",
   "metadata": {
    "id": "worst-street",
    "papermill": {
     "duration": 0.034705,
     "end_time": "2021-04-06T13:50:42.552548",
     "exception": false,
     "start_time": "2021-04-06T13:50:42.517843",
     "status": "completed"
    },
    "tags": []
   },
   "source": [
    "<h4>Removing the least important feautres according to the random forrest results</h4>"
   ]
  },
  {
   "cell_type": "code",
   "execution_count": 9,
   "id": "purple-musical",
   "metadata": {
    "execution": {
     "iopub.execute_input": "2021-04-06T13:50:42.629286Z",
     "iopub.status.busy": "2021-04-06T13:50:42.628320Z",
     "iopub.status.idle": "2021-04-06T13:50:42.633095Z",
     "shell.execute_reply": "2021-04-06T13:50:42.632550Z"
    },
    "id": "local-gamma",
    "papermill": {
     "duration": 0.045041,
     "end_time": "2021-04-06T13:50:42.633223",
     "exception": false,
     "start_time": "2021-04-06T13:50:42.588182",
     "status": "completed"
    },
    "tags": []
   },
   "outputs": [],
   "source": [
    "del x['fixed acidity']\n",
    "del x['free sulfur dioxide']\n",
    "del x['citric acid']"
   ]
  },
  {
   "cell_type": "markdown",
   "id": "connected-tiffany",
   "metadata": {
    "id": "abandoned-tension",
    "papermill": {
     "duration": 0.034342,
     "end_time": "2021-04-06T13:50:42.703031",
     "exception": false,
     "start_time": "2021-04-06T13:50:42.668689",
     "status": "completed"
    },
    "tags": []
   },
   "source": [
    "<h4>Encoding the quality</h4>"
   ]
  },
  {
   "cell_type": "code",
   "execution_count": 10,
   "id": "loaded-mobile",
   "metadata": {
    "execution": {
     "iopub.execute_input": "2021-04-06T13:50:42.778844Z",
     "iopub.status.busy": "2021-04-06T13:50:42.778116Z",
     "iopub.status.idle": "2021-04-06T13:50:42.781794Z",
     "shell.execute_reply": "2021-04-06T13:50:42.781184Z"
    },
    "id": "fundamental-enemy",
    "papermill": {
     "duration": 0.044206,
     "end_time": "2021-04-06T13:50:42.781908",
     "exception": false,
     "start_time": "2021-04-06T13:50:42.737702",
     "status": "completed"
    },
    "scrolled": true,
    "tags": []
   },
   "outputs": [],
   "source": [
    "le = LabelEncoder()\n",
    "y = le.fit_transform(wine_data.iloc[: , -1])\n",
    "y = pd.DataFrame(y.reshape(len(y),1))"
   ]
  },
  {
   "cell_type": "markdown",
   "id": "worth-venezuela",
   "metadata": {
    "id": "applicable-characteristic",
    "papermill": {
     "duration": 0.035122,
     "end_time": "2021-04-06T13:50:42.852611",
     "exception": false,
     "start_time": "2021-04-06T13:50:42.817489",
     "status": "completed"
    },
    "tags": []
   },
   "source": [
    "### Data Over sampling using SMOTE"
   ]
  },
  {
   "cell_type": "code",
   "execution_count": 11,
   "id": "curious-swedish",
   "metadata": {
    "execution": {
     "iopub.execute_input": "2021-04-06T13:50:42.928091Z",
     "iopub.status.busy": "2021-04-06T13:50:42.927341Z",
     "iopub.status.idle": "2021-04-06T13:50:43.090188Z",
     "shell.execute_reply": "2021-04-06T13:50:43.090866Z"
    },
    "id": "returning-japan",
    "outputId": "f49f5285-c980-4298-d4e2-b63e0e77a237",
    "papermill": {
     "duration": 0.20316,
     "end_time": "2021-04-06T13:50:43.091064",
     "exception": false,
     "start_time": "2021-04-06T13:50:42.887904",
     "status": "completed"
    },
    "tags": []
   },
   "outputs": [
    {
     "name": "stderr",
     "output_type": "stream",
     "text": [
      "/opt/conda/lib/python3.7/site-packages/imblearn/utils/_validation.py:300: UserWarning: After over-sampling, the number of samples (1700) in class 0 will be larger than the number of samples in the majority class (class #2 -> 681)\n",
      "  f\"After over-sampling, the number of samples ({n_samples})\"\n",
      "/opt/conda/lib/python3.7/site-packages/imblearn/utils/_validation.py:300: UserWarning: After over-sampling, the number of samples (1700) in class 1 will be larger than the number of samples in the majority class (class #2 -> 681)\n",
      "  f\"After over-sampling, the number of samples ({n_samples})\"\n",
      "/opt/conda/lib/python3.7/site-packages/imblearn/utils/_validation.py:300: UserWarning: After over-sampling, the number of samples (1700) in class 2 will be larger than the number of samples in the majority class (class #2 -> 681)\n",
      "  f\"After over-sampling, the number of samples ({n_samples})\"\n",
      "/opt/conda/lib/python3.7/site-packages/imblearn/utils/_validation.py:300: UserWarning: After over-sampling, the number of samples (1700) in class 3 will be larger than the number of samples in the majority class (class #2 -> 681)\n",
      "  f\"After over-sampling, the number of samples ({n_samples})\"\n",
      "/opt/conda/lib/python3.7/site-packages/imblearn/utils/_validation.py:300: UserWarning: After over-sampling, the number of samples (1700) in class 4 will be larger than the number of samples in the majority class (class #2 -> 681)\n",
      "  f\"After over-sampling, the number of samples ({n_samples})\"\n",
      "/opt/conda/lib/python3.7/site-packages/imblearn/utils/_validation.py:300: UserWarning: After over-sampling, the number of samples (1700) in class 5 will be larger than the number of samples in the majority class (class #2 -> 681)\n",
      "  f\"After over-sampling, the number of samples ({n_samples})\"\n"
     ]
    }
   ],
   "source": [
    "from imblearn.over_sampling import SMOTE\n",
    "\n",
    "strategy = {0:1700, 1:1700, 2:1700, 3:1700, 4:1700, 5:1700}\n",
    "oversample = SMOTE(sampling_strategy=strategy)\n",
    "x, y = oversample.fit_resample(x, y)"
   ]
  },
  {
   "cell_type": "code",
   "execution_count": 12,
   "id": "blessed-price",
   "metadata": {
    "execution": {
     "iopub.execute_input": "2021-04-06T13:50:43.171890Z",
     "iopub.status.busy": "2021-04-06T13:50:43.170894Z",
     "iopub.status.idle": "2021-04-06T13:50:43.174604Z",
     "shell.execute_reply": "2021-04-06T13:50:43.175390Z"
    },
    "id": "lvPKV6XIQjvC",
    "outputId": "e30e4676-baa8-42a3-a205-a0302fe62c5d",
    "papermill": {
     "duration": 0.046402,
     "end_time": "2021-04-06T13:50:43.175627",
     "exception": false,
     "start_time": "2021-04-06T13:50:43.129225",
     "status": "completed"
    },
    "tags": []
   },
   "outputs": [
    {
     "data": {
      "text/plain": [
       "(10200, 8)"
      ]
     },
     "execution_count": 12,
     "metadata": {},
     "output_type": "execute_result"
    }
   ],
   "source": [
    "x.shape"
   ]
  },
  {
   "cell_type": "markdown",
   "id": "endless-assembly",
   "metadata": {
    "id": "neutral-mineral",
    "papermill": {
     "duration": 0.036141,
     "end_time": "2021-04-06T13:50:43.250701",
     "exception": false,
     "start_time": "2021-04-06T13:50:43.214560",
     "status": "completed"
    },
    "tags": []
   },
   "source": [
    "<h4>Spliting data</h4>"
   ]
  },
  {
   "cell_type": "code",
   "execution_count": 13,
   "id": "reverse-breakfast",
   "metadata": {
    "execution": {
     "iopub.execute_input": "2021-04-06T13:50:43.329819Z",
     "iopub.status.busy": "2021-04-06T13:50:43.328855Z",
     "iopub.status.idle": "2021-04-06T13:50:43.332931Z",
     "shell.execute_reply": "2021-04-06T13:50:43.333498Z"
    },
    "id": "invalid-politics",
    "papermill": {
     "duration": 0.046383,
     "end_time": "2021-04-06T13:50:43.333650",
     "exception": false,
     "start_time": "2021-04-06T13:50:43.287267",
     "status": "completed"
    },
    "scrolled": true,
    "tags": []
   },
   "outputs": [],
   "source": [
    "from sklearn.model_selection import train_test_split\n",
    "x_train, x_test, y_train, y_test = train_test_split(x, y, test_size = 0.2, random_state = 0)"
   ]
  },
  {
   "cell_type": "markdown",
   "id": "incorrect-consistency",
   "metadata": {
    "id": "involved-columbus",
    "papermill": {
     "duration": 0.035583,
     "end_time": "2021-04-06T13:50:43.406746",
     "exception": false,
     "start_time": "2021-04-06T13:50:43.371163",
     "status": "completed"
    },
    "tags": []
   },
   "source": [
    "<h4>Transforming quality to categorical data</h4>"
   ]
  },
  {
   "cell_type": "code",
   "execution_count": 14,
   "id": "caroline-lafayette",
   "metadata": {
    "execution": {
     "iopub.execute_input": "2021-04-06T13:50:43.482038Z",
     "iopub.status.busy": "2021-04-06T13:50:43.481331Z",
     "iopub.status.idle": "2021-04-06T13:50:43.484677Z",
     "shell.execute_reply": "2021-04-06T13:50:43.485170Z"
    },
    "id": "dedicated-hearing",
    "papermill": {
     "duration": 0.043265,
     "end_time": "2021-04-06T13:50:43.485339",
     "exception": false,
     "start_time": "2021-04-06T13:50:43.442074",
     "status": "completed"
    },
    "tags": []
   },
   "outputs": [],
   "source": [
    "y_train_cat = tf.keras.utils.to_categorical(y_train, 6)\n",
    "y_test_cat = tf.keras.utils.to_categorical(y_test, 6)"
   ]
  },
  {
   "cell_type": "markdown",
   "id": "directed-works",
   "metadata": {
    "id": "geological-terror",
    "papermill": {
     "duration": 0.034987,
     "end_time": "2021-04-06T13:50:43.556777",
     "exception": false,
     "start_time": "2021-04-06T13:50:43.521790",
     "status": "completed"
    },
    "tags": []
   },
   "source": [
    "<h4>Scaling features</h4>"
   ]
  },
  {
   "cell_type": "code",
   "execution_count": 15,
   "id": "verified-thirty",
   "metadata": {
    "execution": {
     "iopub.execute_input": "2021-04-06T13:50:43.637463Z",
     "iopub.status.busy": "2021-04-06T13:50:43.636749Z",
     "iopub.status.idle": "2021-04-06T13:50:43.645852Z",
     "shell.execute_reply": "2021-04-06T13:50:43.646321Z"
    },
    "id": "universal-underwear",
    "papermill": {
     "duration": 0.052796,
     "end_time": "2021-04-06T13:50:43.646503",
     "exception": false,
     "start_time": "2021-04-06T13:50:43.593707",
     "status": "completed"
    },
    "tags": []
   },
   "outputs": [],
   "source": [
    "sc = StandardScaler()\n",
    "\n",
    "x_train = sc.fit_transform(x_train)\n",
    "x_test = sc.fit_transform(x_test)"
   ]
  },
  {
   "cell_type": "markdown",
   "id": "speaking-silly",
   "metadata": {
    "id": "meaningful-individual",
    "papermill": {
     "duration": 0.03592,
     "end_time": "2021-04-06T13:50:43.718188",
     "exception": false,
     "start_time": "2021-04-06T13:50:43.682268",
     "status": "completed"
    },
    "tags": []
   },
   "source": [
    "<h2>Machine learning modeling</h2>"
   ]
  },
  {
   "cell_type": "markdown",
   "id": "weighted-battle",
   "metadata": {
    "id": "public-worship",
    "papermill": {
     "duration": 0.040262,
     "end_time": "2021-04-06T13:50:43.795536",
     "exception": false,
     "start_time": "2021-04-06T13:50:43.755274",
     "status": "completed"
    },
    "tags": []
   },
   "source": [
    "<h3>Artificial neural network</h3>"
   ]
  },
  {
   "cell_type": "code",
   "execution_count": 16,
   "id": "velvet-buffalo",
   "metadata": {
    "execution": {
     "iopub.execute_input": "2021-04-06T13:50:43.872800Z",
     "iopub.status.busy": "2021-04-06T13:50:43.872179Z",
     "iopub.status.idle": "2021-04-06T13:50:43.905575Z",
     "shell.execute_reply": "2021-04-06T13:50:43.906202Z"
    },
    "id": "employed-graphics",
    "papermill": {
     "duration": 0.074181,
     "end_time": "2021-04-06T13:50:43.906385",
     "exception": false,
     "start_time": "2021-04-06T13:50:43.832204",
     "status": "completed"
    },
    "tags": []
   },
   "outputs": [],
   "source": [
    "ann = tf.keras.models.Sequential(layers = None , name = None)"
   ]
  },
  {
   "cell_type": "code",
   "execution_count": 17,
   "id": "paperback-germany",
   "metadata": {
    "execution": {
     "iopub.execute_input": "2021-04-06T13:50:43.984262Z",
     "iopub.status.busy": "2021-04-06T13:50:43.983358Z",
     "iopub.status.idle": "2021-04-06T13:50:43.992629Z",
     "shell.execute_reply": "2021-04-06T13:50:43.993135Z"
    },
    "id": "convertible-bicycle",
    "papermill": {
     "duration": 0.050031,
     "end_time": "2021-04-06T13:50:43.993311",
     "exception": false,
     "start_time": "2021-04-06T13:50:43.943280",
     "status": "completed"
    },
    "tags": []
   },
   "outputs": [],
   "source": [
    "ann.add(tf.keras.layers.Input(shape = 8,))"
   ]
  },
  {
   "cell_type": "code",
   "execution_count": 18,
   "id": "expired-moderator",
   "metadata": {
    "execution": {
     "iopub.execute_input": "2021-04-06T13:50:44.070196Z",
     "iopub.status.busy": "2021-04-06T13:50:44.068997Z",
     "iopub.status.idle": "2021-04-06T13:50:44.104939Z",
     "shell.execute_reply": "2021-04-06T13:50:44.105512Z"
    },
    "id": "concerned-premises",
    "papermill": {
     "duration": 0.076236,
     "end_time": "2021-04-06T13:50:44.105685",
     "exception": false,
     "start_time": "2021-04-06T13:50:44.029449",
     "status": "completed"
    },
    "tags": []
   },
   "outputs": [],
   "source": [
    "ann.add(tf.keras.layers.Dense(units = 16 , activation = \"relu\" ))"
   ]
  },
  {
   "cell_type": "code",
   "execution_count": 19,
   "id": "prescribed-integer",
   "metadata": {
    "execution": {
     "iopub.execute_input": "2021-04-06T13:50:44.184243Z",
     "iopub.status.busy": "2021-04-06T13:50:44.183327Z",
     "iopub.status.idle": "2021-04-06T13:50:44.194760Z",
     "shell.execute_reply": "2021-04-06T13:50:44.195323Z"
    },
    "id": "opposed-episode",
    "papermill": {
     "duration": 0.051649,
     "end_time": "2021-04-06T13:50:44.195507",
     "exception": false,
     "start_time": "2021-04-06T13:50:44.143858",
     "status": "completed"
    },
    "tags": []
   },
   "outputs": [],
   "source": [
    "ann.add(tf.keras.layers.Dense(units = 8 , activation = \"relu\" ))"
   ]
  },
  {
   "cell_type": "code",
   "execution_count": 20,
   "id": "northern-pound",
   "metadata": {
    "execution": {
     "iopub.execute_input": "2021-04-06T13:50:44.272868Z",
     "iopub.status.busy": "2021-04-06T13:50:44.272019Z",
     "iopub.status.idle": "2021-04-06T13:50:44.284553Z",
     "shell.execute_reply": "2021-04-06T13:50:44.284000Z"
    },
    "id": "stainless-transition",
    "papermill": {
     "duration": 0.051786,
     "end_time": "2021-04-06T13:50:44.284689",
     "exception": false,
     "start_time": "2021-04-06T13:50:44.232903",
     "status": "completed"
    },
    "tags": []
   },
   "outputs": [],
   "source": [
    "ann.add(tf.keras.layers.Dense(units = 6 , activation = \"sigmoid\"))"
   ]
  },
  {
   "cell_type": "code",
   "execution_count": 21,
   "id": "accurate-casino",
   "metadata": {
    "execution": {
     "iopub.execute_input": "2021-04-06T13:50:44.364428Z",
     "iopub.status.busy": "2021-04-06T13:50:44.363772Z",
     "iopub.status.idle": "2021-04-06T13:50:44.369149Z",
     "shell.execute_reply": "2021-04-06T13:50:44.369588Z"
    },
    "id": "difficult-symposium",
    "outputId": "d86e580c-3bea-4939-954e-65a0e9649188",
    "papermill": {
     "duration": 0.048261,
     "end_time": "2021-04-06T13:50:44.369746",
     "exception": false,
     "start_time": "2021-04-06T13:50:44.321485",
     "status": "completed"
    },
    "tags": []
   },
   "outputs": [
    {
     "name": "stdout",
     "output_type": "stream",
     "text": [
      "Model: \"sequential\"\n",
      "_________________________________________________________________\n",
      "Layer (type)                 Output Shape              Param #   \n",
      "=================================================================\n",
      "dense (Dense)                (None, 16)                144       \n",
      "_________________________________________________________________\n",
      "dense_1 (Dense)              (None, 8)                 136       \n",
      "_________________________________________________________________\n",
      "dense_2 (Dense)              (None, 6)                 54        \n",
      "=================================================================\n",
      "Total params: 334\n",
      "Trainable params: 334\n",
      "Non-trainable params: 0\n",
      "_________________________________________________________________\n"
     ]
    }
   ],
   "source": [
    "ann.summary()"
   ]
  },
  {
   "cell_type": "code",
   "execution_count": 22,
   "id": "bridal-paint",
   "metadata": {
    "execution": {
     "iopub.execute_input": "2021-04-06T13:50:44.448036Z",
     "iopub.status.busy": "2021-04-06T13:50:44.447483Z",
     "iopub.status.idle": "2021-04-06T13:50:44.460755Z",
     "shell.execute_reply": "2021-04-06T13:50:44.461265Z"
    },
    "id": "attractive-parking",
    "papermill": {
     "duration": 0.053923,
     "end_time": "2021-04-06T13:50:44.461419",
     "exception": false,
     "start_time": "2021-04-06T13:50:44.407496",
     "status": "completed"
    },
    "tags": []
   },
   "outputs": [],
   "source": [
    "ann.compile(optimizer = 'adam' , loss = 'categorical_crossentropy' ,metrics= ['accuracy'])"
   ]
  },
  {
   "cell_type": "code",
   "execution_count": 23,
   "id": "potential-shield",
   "metadata": {
    "execution": {
     "iopub.execute_input": "2021-04-06T13:50:44.539146Z",
     "iopub.status.busy": "2021-04-06T13:50:44.538562Z",
     "iopub.status.idle": "2021-04-06T13:51:34.282553Z",
     "shell.execute_reply": "2021-04-06T13:51:34.281767Z"
    },
    "id": "considered-homeless",
    "outputId": "eef3d2db-6868-4a29-a351-4bf58d78b484",
    "papermill": {
     "duration": 49.783532,
     "end_time": "2021-04-06T13:51:34.282780",
     "exception": false,
     "start_time": "2021-04-06T13:50:44.499248",
     "status": "completed"
    },
    "tags": []
   },
   "outputs": [
    {
     "name": "stdout",
     "output_type": "stream",
     "text": [
      "Epoch 1/150\n",
      "255/255 [==============================] - 1s 3ms/step - loss: 1.6480 - accuracy: 0.3161 - val_loss: 1.2409 - val_accuracy: 0.4838\n",
      "Epoch 2/150\n",
      "255/255 [==============================] - 0s 1ms/step - loss: 1.1792 - accuracy: 0.4998 - val_loss: 1.0526 - val_accuracy: 0.5676\n",
      "Epoch 3/150\n",
      "255/255 [==============================] - 0s 1ms/step - loss: 1.0362 - accuracy: 0.5609 - val_loss: 0.9747 - val_accuracy: 0.6078\n",
      "Epoch 4/150\n",
      "255/255 [==============================] - 0s 1ms/step - loss: 0.9590 - accuracy: 0.6004 - val_loss: 0.9352 - val_accuracy: 0.6069\n",
      "Epoch 5/150\n",
      "255/255 [==============================] - 0s 1ms/step - loss: 0.9333 - accuracy: 0.6044 - val_loss: 0.9034 - val_accuracy: 0.6113\n",
      "Epoch 6/150\n",
      "255/255 [==============================] - 0s 1ms/step - loss: 0.8954 - accuracy: 0.6187 - val_loss: 0.8818 - val_accuracy: 0.6284\n",
      "Epoch 7/150\n",
      "255/255 [==============================] - 0s 1ms/step - loss: 0.8756 - accuracy: 0.6233 - val_loss: 0.8673 - val_accuracy: 0.6324\n",
      "Epoch 8/150\n",
      "255/255 [==============================] - 0s 1ms/step - loss: 0.8525 - accuracy: 0.6296 - val_loss: 0.8464 - val_accuracy: 0.6534\n",
      "Epoch 9/150\n",
      "255/255 [==============================] - 0s 1ms/step - loss: 0.8450 - accuracy: 0.6359 - val_loss: 0.8263 - val_accuracy: 0.6608\n",
      "Epoch 10/150\n",
      "255/255 [==============================] - 0s 1ms/step - loss: 0.8210 - accuracy: 0.6673 - val_loss: 0.8113 - val_accuracy: 0.6725\n",
      "Epoch 11/150\n",
      "255/255 [==============================] - 0s 1ms/step - loss: 0.7903 - accuracy: 0.6732 - val_loss: 0.7995 - val_accuracy: 0.6676\n",
      "Epoch 12/150\n",
      "255/255 [==============================] - 0s 1ms/step - loss: 0.7962 - accuracy: 0.6688 - val_loss: 0.7872 - val_accuracy: 0.6765\n",
      "Epoch 13/150\n",
      "255/255 [==============================] - 0s 1ms/step - loss: 0.7812 - accuracy: 0.6726 - val_loss: 0.7781 - val_accuracy: 0.6789\n",
      "Epoch 14/150\n",
      "255/255 [==============================] - 0s 1ms/step - loss: 0.7597 - accuracy: 0.6836 - val_loss: 0.7675 - val_accuracy: 0.6882\n",
      "Epoch 15/150\n",
      "255/255 [==============================] - 0s 1ms/step - loss: 0.7708 - accuracy: 0.6865 - val_loss: 0.7567 - val_accuracy: 0.6882\n",
      "Epoch 16/150\n",
      "255/255 [==============================] - 0s 1ms/step - loss: 0.7479 - accuracy: 0.6856 - val_loss: 0.7468 - val_accuracy: 0.6941\n",
      "Epoch 17/150\n",
      "255/255 [==============================] - 0s 1ms/step - loss: 0.7496 - accuracy: 0.6868 - val_loss: 0.7419 - val_accuracy: 0.6980\n",
      "Epoch 18/150\n",
      "255/255 [==============================] - 0s 1ms/step - loss: 0.7337 - accuracy: 0.7061 - val_loss: 0.7409 - val_accuracy: 0.7020\n",
      "Epoch 19/150\n",
      "255/255 [==============================] - 0s 1ms/step - loss: 0.7384 - accuracy: 0.6998 - val_loss: 0.7312 - val_accuracy: 0.7034\n",
      "Epoch 20/150\n",
      "255/255 [==============================] - 0s 1ms/step - loss: 0.7279 - accuracy: 0.7078 - val_loss: 0.7239 - val_accuracy: 0.7054\n",
      "Epoch 21/150\n",
      "255/255 [==============================] - 0s 1ms/step - loss: 0.7189 - accuracy: 0.7116 - val_loss: 0.7169 - val_accuracy: 0.7093\n",
      "Epoch 22/150\n",
      "255/255 [==============================] - 0s 1ms/step - loss: 0.7022 - accuracy: 0.7140 - val_loss: 0.7078 - val_accuracy: 0.7206\n",
      "Epoch 23/150\n",
      "255/255 [==============================] - 0s 1ms/step - loss: 0.7207 - accuracy: 0.7092 - val_loss: 0.7049 - val_accuracy: 0.7265\n",
      "Epoch 24/150\n",
      "255/255 [==============================] - 0s 1ms/step - loss: 0.7217 - accuracy: 0.7130 - val_loss: 0.7043 - val_accuracy: 0.7225\n",
      "Epoch 25/150\n",
      "255/255 [==============================] - 0s 1ms/step - loss: 0.6896 - accuracy: 0.7282 - val_loss: 0.6974 - val_accuracy: 0.7255\n",
      "Epoch 26/150\n",
      "255/255 [==============================] - 0s 1ms/step - loss: 0.7015 - accuracy: 0.7226 - val_loss: 0.6979 - val_accuracy: 0.7255\n",
      "Epoch 27/150\n",
      "255/255 [==============================] - 0s 1ms/step - loss: 0.6833 - accuracy: 0.7251 - val_loss: 0.6902 - val_accuracy: 0.7221\n",
      "Epoch 28/150\n",
      "255/255 [==============================] - 0s 1ms/step - loss: 0.6860 - accuracy: 0.7261 - val_loss: 0.6829 - val_accuracy: 0.7289\n",
      "Epoch 29/150\n",
      "255/255 [==============================] - 0s 1ms/step - loss: 0.6750 - accuracy: 0.7273 - val_loss: 0.6855 - val_accuracy: 0.7240\n",
      "Epoch 30/150\n",
      "255/255 [==============================] - 0s 1ms/step - loss: 0.6740 - accuracy: 0.7326 - val_loss: 0.6779 - val_accuracy: 0.7294\n",
      "Epoch 31/150\n",
      "255/255 [==============================] - 0s 1ms/step - loss: 0.6668 - accuracy: 0.7250 - val_loss: 0.6737 - val_accuracy: 0.7284\n",
      "Epoch 32/150\n",
      "255/255 [==============================] - 0s 1ms/step - loss: 0.6668 - accuracy: 0.7363 - val_loss: 0.6763 - val_accuracy: 0.7211\n",
      "Epoch 33/150\n",
      "255/255 [==============================] - 0s 1ms/step - loss: 0.6564 - accuracy: 0.7386 - val_loss: 0.6681 - val_accuracy: 0.7299\n",
      "Epoch 34/150\n",
      "255/255 [==============================] - 0s 1ms/step - loss: 0.6700 - accuracy: 0.7241 - val_loss: 0.6678 - val_accuracy: 0.7309\n",
      "Epoch 35/150\n",
      "255/255 [==============================] - 0s 1ms/step - loss: 0.6646 - accuracy: 0.7314 - val_loss: 0.6659 - val_accuracy: 0.7275\n",
      "Epoch 36/150\n",
      "255/255 [==============================] - 0s 1ms/step - loss: 0.6513 - accuracy: 0.7432 - val_loss: 0.6591 - val_accuracy: 0.7324\n",
      "Epoch 37/150\n",
      "255/255 [==============================] - 0s 1ms/step - loss: 0.6545 - accuracy: 0.7297 - val_loss: 0.6591 - val_accuracy: 0.7275\n",
      "Epoch 38/150\n",
      "255/255 [==============================] - 0s 2ms/step - loss: 0.6423 - accuracy: 0.7430 - val_loss: 0.6606 - val_accuracy: 0.7324\n",
      "Epoch 39/150\n",
      "255/255 [==============================] - 0s 1ms/step - loss: 0.6435 - accuracy: 0.7477 - val_loss: 0.6565 - val_accuracy: 0.7348\n",
      "Epoch 40/150\n",
      "255/255 [==============================] - 0s 1ms/step - loss: 0.6436 - accuracy: 0.7422 - val_loss: 0.6525 - val_accuracy: 0.7338\n",
      "Epoch 41/150\n",
      "255/255 [==============================] - 0s 1ms/step - loss: 0.6393 - accuracy: 0.7421 - val_loss: 0.6505 - val_accuracy: 0.7333\n",
      "Epoch 42/150\n",
      "255/255 [==============================] - 0s 1ms/step - loss: 0.6280 - accuracy: 0.7420 - val_loss: 0.6438 - val_accuracy: 0.7348\n",
      "Epoch 43/150\n",
      "255/255 [==============================] - 0s 1ms/step - loss: 0.6285 - accuracy: 0.7453 - val_loss: 0.6476 - val_accuracy: 0.7387\n",
      "Epoch 44/150\n",
      "255/255 [==============================] - 0s 1ms/step - loss: 0.6318 - accuracy: 0.7354 - val_loss: 0.6409 - val_accuracy: 0.7407\n",
      "Epoch 45/150\n",
      "255/255 [==============================] - 0s 1ms/step - loss: 0.6279 - accuracy: 0.7476 - val_loss: 0.6397 - val_accuracy: 0.7377\n",
      "Epoch 46/150\n",
      "255/255 [==============================] - 0s 1ms/step - loss: 0.6326 - accuracy: 0.7480 - val_loss: 0.6362 - val_accuracy: 0.7353\n",
      "Epoch 47/150\n",
      "255/255 [==============================] - 0s 1ms/step - loss: 0.6293 - accuracy: 0.7411 - val_loss: 0.6326 - val_accuracy: 0.7382\n",
      "Epoch 48/150\n",
      "255/255 [==============================] - 0s 1ms/step - loss: 0.6213 - accuracy: 0.7454 - val_loss: 0.6323 - val_accuracy: 0.7422\n",
      "Epoch 49/150\n",
      "255/255 [==============================] - 0s 1ms/step - loss: 0.6126 - accuracy: 0.7547 - val_loss: 0.6285 - val_accuracy: 0.7417\n",
      "Epoch 50/150\n",
      "255/255 [==============================] - 0s 1ms/step - loss: 0.6081 - accuracy: 0.7495 - val_loss: 0.6292 - val_accuracy: 0.7446\n",
      "Epoch 51/150\n",
      "255/255 [==============================] - 0s 1ms/step - loss: 0.6181 - accuracy: 0.7483 - val_loss: 0.6339 - val_accuracy: 0.7402\n",
      "Epoch 52/150\n",
      "255/255 [==============================] - 0s 1ms/step - loss: 0.6152 - accuracy: 0.7513 - val_loss: 0.6281 - val_accuracy: 0.7471\n",
      "Epoch 53/150\n",
      "255/255 [==============================] - 0s 1ms/step - loss: 0.6220 - accuracy: 0.7519 - val_loss: 0.6250 - val_accuracy: 0.7475\n",
      "Epoch 54/150\n",
      "255/255 [==============================] - 0s 1ms/step - loss: 0.6132 - accuracy: 0.7506 - val_loss: 0.6251 - val_accuracy: 0.7446\n",
      "Epoch 55/150\n",
      "255/255 [==============================] - 0s 1ms/step - loss: 0.6004 - accuracy: 0.7522 - val_loss: 0.6224 - val_accuracy: 0.7480\n",
      "Epoch 56/150\n",
      "255/255 [==============================] - 0s 1ms/step - loss: 0.6169 - accuracy: 0.7473 - val_loss: 0.6229 - val_accuracy: 0.7456\n",
      "Epoch 57/150\n",
      "255/255 [==============================] - 0s 1ms/step - loss: 0.6062 - accuracy: 0.7526 - val_loss: 0.6164 - val_accuracy: 0.7490\n",
      "Epoch 58/150\n",
      "255/255 [==============================] - 0s 1ms/step - loss: 0.6122 - accuracy: 0.7420 - val_loss: 0.6186 - val_accuracy: 0.7441\n",
      "Epoch 59/150\n",
      "255/255 [==============================] - 0s 1ms/step - loss: 0.5965 - accuracy: 0.7555 - val_loss: 0.6226 - val_accuracy: 0.7520\n",
      "Epoch 60/150\n",
      "255/255 [==============================] - 0s 1ms/step - loss: 0.5979 - accuracy: 0.7575 - val_loss: 0.6185 - val_accuracy: 0.7451\n",
      "Epoch 61/150\n",
      "255/255 [==============================] - 0s 1ms/step - loss: 0.5952 - accuracy: 0.7559 - val_loss: 0.6106 - val_accuracy: 0.7564\n",
      "Epoch 62/150\n",
      "255/255 [==============================] - 0s 1ms/step - loss: 0.5901 - accuracy: 0.7517 - val_loss: 0.6139 - val_accuracy: 0.7490\n",
      "Epoch 63/150\n",
      "255/255 [==============================] - 0s 1ms/step - loss: 0.5879 - accuracy: 0.7648 - val_loss: 0.6086 - val_accuracy: 0.7500\n",
      "Epoch 64/150\n",
      "255/255 [==============================] - 0s 1ms/step - loss: 0.5936 - accuracy: 0.7617 - val_loss: 0.6144 - val_accuracy: 0.7515\n",
      "Epoch 65/150\n",
      "255/255 [==============================] - 0s 1ms/step - loss: 0.6111 - accuracy: 0.7542 - val_loss: 0.6088 - val_accuracy: 0.7500\n",
      "Epoch 66/150\n",
      "255/255 [==============================] - 0s 1ms/step - loss: 0.5965 - accuracy: 0.7600 - val_loss: 0.6139 - val_accuracy: 0.7515\n",
      "Epoch 67/150\n",
      "255/255 [==============================] - 0s 1ms/step - loss: 0.5893 - accuracy: 0.7622 - val_loss: 0.6128 - val_accuracy: 0.7495\n",
      "Epoch 68/150\n",
      "255/255 [==============================] - 0s 1ms/step - loss: 0.5820 - accuracy: 0.7683 - val_loss: 0.6102 - val_accuracy: 0.7510\n",
      "Epoch 69/150\n",
      "255/255 [==============================] - 0s 1ms/step - loss: 0.5982 - accuracy: 0.7539 - val_loss: 0.6104 - val_accuracy: 0.7569\n",
      "Epoch 70/150\n",
      "255/255 [==============================] - 0s 1ms/step - loss: 0.5982 - accuracy: 0.7642 - val_loss: 0.6057 - val_accuracy: 0.7549\n",
      "Epoch 71/150\n",
      "255/255 [==============================] - 0s 1ms/step - loss: 0.5942 - accuracy: 0.7593 - val_loss: 0.6051 - val_accuracy: 0.7569\n",
      "Epoch 72/150\n",
      "255/255 [==============================] - 0s 1ms/step - loss: 0.5907 - accuracy: 0.7634 - val_loss: 0.6051 - val_accuracy: 0.7588\n",
      "Epoch 73/150\n",
      "255/255 [==============================] - 0s 1ms/step - loss: 0.5988 - accuracy: 0.7540 - val_loss: 0.6126 - val_accuracy: 0.7520\n",
      "Epoch 74/150\n",
      "255/255 [==============================] - 0s 1ms/step - loss: 0.5809 - accuracy: 0.7651 - val_loss: 0.6034 - val_accuracy: 0.7510\n",
      "Epoch 75/150\n",
      "255/255 [==============================] - 0s 1ms/step - loss: 0.5802 - accuracy: 0.7615 - val_loss: 0.6070 - val_accuracy: 0.7574\n",
      "Epoch 76/150\n",
      "255/255 [==============================] - 0s 1ms/step - loss: 0.5928 - accuracy: 0.7632 - val_loss: 0.6034 - val_accuracy: 0.7544\n",
      "Epoch 77/150\n",
      "255/255 [==============================] - 0s 1ms/step - loss: 0.6059 - accuracy: 0.7518 - val_loss: 0.6052 - val_accuracy: 0.7525\n",
      "Epoch 78/150\n",
      "255/255 [==============================] - 0s 1ms/step - loss: 0.5800 - accuracy: 0.7631 - val_loss: 0.6029 - val_accuracy: 0.7485\n",
      "Epoch 79/150\n",
      "255/255 [==============================] - 0s 1ms/step - loss: 0.5669 - accuracy: 0.7736 - val_loss: 0.6017 - val_accuracy: 0.7559\n",
      "Epoch 80/150\n",
      "255/255 [==============================] - 0s 1ms/step - loss: 0.5704 - accuracy: 0.7783 - val_loss: 0.6014 - val_accuracy: 0.7466\n",
      "Epoch 81/150\n",
      "255/255 [==============================] - 0s 1ms/step - loss: 0.5901 - accuracy: 0.7539 - val_loss: 0.5943 - val_accuracy: 0.7574\n",
      "Epoch 82/150\n",
      "255/255 [==============================] - 0s 1ms/step - loss: 0.5885 - accuracy: 0.7668 - val_loss: 0.5966 - val_accuracy: 0.7583\n",
      "Epoch 83/150\n",
      "255/255 [==============================] - 0s 1ms/step - loss: 0.5598 - accuracy: 0.7723 - val_loss: 0.6085 - val_accuracy: 0.7539\n",
      "Epoch 84/150\n",
      "255/255 [==============================] - 0s 1ms/step - loss: 0.5787 - accuracy: 0.7644 - val_loss: 0.5948 - val_accuracy: 0.7554\n",
      "Epoch 85/150\n",
      "255/255 [==============================] - 0s 1ms/step - loss: 0.5797 - accuracy: 0.7641 - val_loss: 0.5907 - val_accuracy: 0.7588\n",
      "Epoch 86/150\n",
      "255/255 [==============================] - 0s 1ms/step - loss: 0.5769 - accuracy: 0.7705 - val_loss: 0.5939 - val_accuracy: 0.7588\n",
      "Epoch 87/150\n",
      "255/255 [==============================] - 0s 1ms/step - loss: 0.5628 - accuracy: 0.7698 - val_loss: 0.5913 - val_accuracy: 0.7593\n",
      "Epoch 88/150\n",
      "255/255 [==============================] - 0s 1ms/step - loss: 0.5584 - accuracy: 0.7694 - val_loss: 0.5999 - val_accuracy: 0.7525\n",
      "Epoch 89/150\n",
      "255/255 [==============================] - 0s 1ms/step - loss: 0.5804 - accuracy: 0.7595 - val_loss: 0.5989 - val_accuracy: 0.7569\n",
      "Epoch 90/150\n",
      "255/255 [==============================] - 0s 1ms/step - loss: 0.5793 - accuracy: 0.7646 - val_loss: 0.5965 - val_accuracy: 0.7613\n",
      "Epoch 91/150\n",
      "255/255 [==============================] - 0s 1ms/step - loss: 0.5748 - accuracy: 0.7635 - val_loss: 0.5905 - val_accuracy: 0.7569\n",
      "Epoch 92/150\n",
      "255/255 [==============================] - 0s 1ms/step - loss: 0.5700 - accuracy: 0.7690 - val_loss: 0.5938 - val_accuracy: 0.7564\n",
      "Epoch 93/150\n",
      "255/255 [==============================] - 0s 1ms/step - loss: 0.5732 - accuracy: 0.7665 - val_loss: 0.5877 - val_accuracy: 0.7583\n",
      "Epoch 94/150\n",
      "255/255 [==============================] - 0s 1ms/step - loss: 0.5717 - accuracy: 0.7671 - val_loss: 0.5867 - val_accuracy: 0.7623\n",
      "Epoch 95/150\n",
      "255/255 [==============================] - 0s 1ms/step - loss: 0.5769 - accuracy: 0.7577 - val_loss: 0.5909 - val_accuracy: 0.7559\n",
      "Epoch 96/150\n",
      "255/255 [==============================] - 0s 1ms/step - loss: 0.5853 - accuracy: 0.7612 - val_loss: 0.5907 - val_accuracy: 0.7559\n",
      "Epoch 97/150\n",
      "255/255 [==============================] - 0s 1ms/step - loss: 0.5818 - accuracy: 0.7563 - val_loss: 0.5854 - val_accuracy: 0.7632\n",
      "Epoch 98/150\n",
      "255/255 [==============================] - 0s 1ms/step - loss: 0.5617 - accuracy: 0.7744 - val_loss: 0.5862 - val_accuracy: 0.7559\n",
      "Epoch 99/150\n",
      "255/255 [==============================] - 0s 1ms/step - loss: 0.5598 - accuracy: 0.7689 - val_loss: 0.5893 - val_accuracy: 0.7588\n",
      "Epoch 100/150\n",
      "255/255 [==============================] - 0s 1ms/step - loss: 0.5827 - accuracy: 0.7607 - val_loss: 0.5864 - val_accuracy: 0.7623\n",
      "Epoch 101/150\n",
      "255/255 [==============================] - 0s 1ms/step - loss: 0.5810 - accuracy: 0.7645 - val_loss: 0.5887 - val_accuracy: 0.7544\n",
      "Epoch 102/150\n",
      "255/255 [==============================] - 0s 1ms/step - loss: 0.5701 - accuracy: 0.7665 - val_loss: 0.5875 - val_accuracy: 0.7549\n",
      "Epoch 103/150\n",
      "255/255 [==============================] - 0s 1ms/step - loss: 0.5734 - accuracy: 0.7641 - val_loss: 0.5859 - val_accuracy: 0.7569\n",
      "Epoch 104/150\n",
      "255/255 [==============================] - 0s 1ms/step - loss: 0.5761 - accuracy: 0.7636 - val_loss: 0.5841 - val_accuracy: 0.7569\n",
      "Epoch 105/150\n",
      "255/255 [==============================] - 0s 1ms/step - loss: 0.5645 - accuracy: 0.7710 - val_loss: 0.5788 - val_accuracy: 0.7608\n",
      "Epoch 106/150\n",
      "255/255 [==============================] - 0s 1ms/step - loss: 0.5787 - accuracy: 0.7657 - val_loss: 0.5841 - val_accuracy: 0.7637\n",
      "Epoch 107/150\n",
      "255/255 [==============================] - 0s 1ms/step - loss: 0.5728 - accuracy: 0.7627 - val_loss: 0.5860 - val_accuracy: 0.7593\n",
      "Epoch 108/150\n",
      "255/255 [==============================] - 0s 1ms/step - loss: 0.5491 - accuracy: 0.7750 - val_loss: 0.5906 - val_accuracy: 0.7505\n",
      "Epoch 109/150\n",
      "255/255 [==============================] - 0s 1ms/step - loss: 0.5733 - accuracy: 0.7735 - val_loss: 0.5977 - val_accuracy: 0.7618\n",
      "Epoch 110/150\n",
      "255/255 [==============================] - 0s 1ms/step - loss: 0.5655 - accuracy: 0.7636 - val_loss: 0.5792 - val_accuracy: 0.7608\n",
      "Epoch 111/150\n",
      "255/255 [==============================] - 0s 1ms/step - loss: 0.5668 - accuracy: 0.7611 - val_loss: 0.5946 - val_accuracy: 0.7549\n",
      "Epoch 112/150\n",
      "255/255 [==============================] - 0s 1ms/step - loss: 0.5614 - accuracy: 0.7633 - val_loss: 0.5958 - val_accuracy: 0.7583\n",
      "Epoch 113/150\n",
      "255/255 [==============================] - 0s 1ms/step - loss: 0.5594 - accuracy: 0.7701 - val_loss: 0.5831 - val_accuracy: 0.7613\n",
      "Epoch 114/150\n",
      "255/255 [==============================] - 0s 2ms/step - loss: 0.5666 - accuracy: 0.7724 - val_loss: 0.5828 - val_accuracy: 0.7588\n",
      "Epoch 115/150\n",
      "255/255 [==============================] - 0s 1ms/step - loss: 0.5530 - accuracy: 0.7739 - val_loss: 0.5868 - val_accuracy: 0.7471\n",
      "Epoch 116/150\n",
      "255/255 [==============================] - 0s 1ms/step - loss: 0.5656 - accuracy: 0.7620 - val_loss: 0.5763 - val_accuracy: 0.7603\n",
      "Epoch 117/150\n",
      "255/255 [==============================] - 0s 1ms/step - loss: 0.5524 - accuracy: 0.7745 - val_loss: 0.5758 - val_accuracy: 0.7583\n",
      "Epoch 118/150\n",
      "255/255 [==============================] - 0s 1ms/step - loss: 0.5798 - accuracy: 0.7562 - val_loss: 0.5796 - val_accuracy: 0.7574\n",
      "Epoch 119/150\n",
      "255/255 [==============================] - 0s 1ms/step - loss: 0.5680 - accuracy: 0.7704 - val_loss: 0.5811 - val_accuracy: 0.7569\n",
      "Epoch 120/150\n",
      "255/255 [==============================] - 0s 1ms/step - loss: 0.5650 - accuracy: 0.7692 - val_loss: 0.5755 - val_accuracy: 0.7564\n",
      "Epoch 121/150\n",
      "255/255 [==============================] - 0s 1ms/step - loss: 0.5673 - accuracy: 0.7730 - val_loss: 0.5807 - val_accuracy: 0.7598\n",
      "Epoch 122/150\n",
      "255/255 [==============================] - 0s 1ms/step - loss: 0.5506 - accuracy: 0.7771 - val_loss: 0.5836 - val_accuracy: 0.7578\n",
      "Epoch 123/150\n",
      "255/255 [==============================] - 0s 1ms/step - loss: 0.5667 - accuracy: 0.7676 - val_loss: 0.5744 - val_accuracy: 0.7632\n",
      "Epoch 124/150\n",
      "255/255 [==============================] - 0s 1ms/step - loss: 0.5772 - accuracy: 0.7634 - val_loss: 0.5815 - val_accuracy: 0.7515\n",
      "Epoch 125/150\n",
      "255/255 [==============================] - 0s 1ms/step - loss: 0.5762 - accuracy: 0.7623 - val_loss: 0.5790 - val_accuracy: 0.7564\n",
      "Epoch 126/150\n",
      "255/255 [==============================] - 0s 1ms/step - loss: 0.5660 - accuracy: 0.7679 - val_loss: 0.5766 - val_accuracy: 0.7564\n",
      "Epoch 127/150\n",
      "255/255 [==============================] - 0s 1ms/step - loss: 0.5720 - accuracy: 0.7600 - val_loss: 0.5787 - val_accuracy: 0.7593\n",
      "Epoch 128/150\n",
      "255/255 [==============================] - 0s 1ms/step - loss: 0.5574 - accuracy: 0.7758 - val_loss: 0.5785 - val_accuracy: 0.7520\n",
      "Epoch 129/150\n",
      "255/255 [==============================] - 0s 1ms/step - loss: 0.5513 - accuracy: 0.7729 - val_loss: 0.5772 - val_accuracy: 0.7608\n",
      "Epoch 130/150\n",
      "255/255 [==============================] - 0s 1ms/step - loss: 0.5552 - accuracy: 0.7725 - val_loss: 0.5761 - val_accuracy: 0.7578\n",
      "Epoch 131/150\n",
      "255/255 [==============================] - 0s 1ms/step - loss: 0.5407 - accuracy: 0.7805 - val_loss: 0.5722 - val_accuracy: 0.7603\n",
      "Epoch 132/150\n",
      "255/255 [==============================] - 0s 1ms/step - loss: 0.5608 - accuracy: 0.7709 - val_loss: 0.5849 - val_accuracy: 0.7564\n",
      "Epoch 133/150\n",
      "255/255 [==============================] - 0s 1ms/step - loss: 0.5502 - accuracy: 0.7758 - val_loss: 0.5760 - val_accuracy: 0.7593\n",
      "Epoch 134/150\n",
      "255/255 [==============================] - 0s 1ms/step - loss: 0.5688 - accuracy: 0.7638 - val_loss: 0.5691 - val_accuracy: 0.7593\n",
      "Epoch 135/150\n",
      "255/255 [==============================] - 0s 2ms/step - loss: 0.5633 - accuracy: 0.7702 - val_loss: 0.5758 - val_accuracy: 0.7549\n",
      "Epoch 136/150\n",
      "255/255 [==============================] - 0s 2ms/step - loss: 0.5607 - accuracy: 0.7717 - val_loss: 0.5758 - val_accuracy: 0.7554\n",
      "Epoch 137/150\n",
      "255/255 [==============================] - 0s 2ms/step - loss: 0.5502 - accuracy: 0.7710 - val_loss: 0.5855 - val_accuracy: 0.7574\n",
      "Epoch 138/150\n",
      "255/255 [==============================] - 0s 1ms/step - loss: 0.5496 - accuracy: 0.7721 - val_loss: 0.5722 - val_accuracy: 0.7593\n",
      "Epoch 139/150\n",
      "255/255 [==============================] - 0s 2ms/step - loss: 0.5509 - accuracy: 0.7674 - val_loss: 0.5752 - val_accuracy: 0.7569\n",
      "Epoch 140/150\n",
      "255/255 [==============================] - 0s 2ms/step - loss: 0.5594 - accuracy: 0.7710 - val_loss: 0.5724 - val_accuracy: 0.7578\n",
      "Epoch 141/150\n",
      "255/255 [==============================] - 0s 1ms/step - loss: 0.5479 - accuracy: 0.7799 - val_loss: 0.5693 - val_accuracy: 0.7667\n",
      "Epoch 142/150\n",
      "255/255 [==============================] - 0s 1ms/step - loss: 0.5404 - accuracy: 0.7838 - val_loss: 0.5765 - val_accuracy: 0.7559\n",
      "Epoch 143/150\n",
      "255/255 [==============================] - 0s 1ms/step - loss: 0.5541 - accuracy: 0.7724 - val_loss: 0.5713 - val_accuracy: 0.7583\n",
      "Epoch 144/150\n",
      "255/255 [==============================] - 0s 2ms/step - loss: 0.5605 - accuracy: 0.7653 - val_loss: 0.5749 - val_accuracy: 0.7623\n",
      "Epoch 145/150\n",
      "255/255 [==============================] - 0s 1ms/step - loss: 0.5489 - accuracy: 0.7733 - val_loss: 0.5699 - val_accuracy: 0.7583\n",
      "Epoch 146/150\n",
      "255/255 [==============================] - 0s 1ms/step - loss: 0.5531 - accuracy: 0.7719 - val_loss: 0.5698 - val_accuracy: 0.7657\n",
      "Epoch 147/150\n",
      "255/255 [==============================] - 0s 1ms/step - loss: 0.5617 - accuracy: 0.7700 - val_loss: 0.5718 - val_accuracy: 0.7583\n",
      "Epoch 148/150\n",
      "255/255 [==============================] - 0s 1ms/step - loss: 0.5398 - accuracy: 0.7766 - val_loss: 0.5658 - val_accuracy: 0.7593\n",
      "Epoch 149/150\n",
      "255/255 [==============================] - 0s 1ms/step - loss: 0.5483 - accuracy: 0.7743 - val_loss: 0.5761 - val_accuracy: 0.7515\n",
      "Epoch 150/150\n",
      "255/255 [==============================] - 0s 1ms/step - loss: 0.5592 - accuracy: 0.7700 - val_loss: 0.5680 - val_accuracy: 0.7608\n"
     ]
    }
   ],
   "source": [
    "history = ann.fit(x_train, y_train_cat,  batch_size= 32, epochs = 150 , validation_data = (x_test,y_test_cat))"
   ]
  },
  {
   "cell_type": "code",
   "execution_count": 24,
   "id": "welsh-chosen",
   "metadata": {
    "execution": {
     "iopub.execute_input": "2021-04-06T13:51:34.916214Z",
     "iopub.status.busy": "2021-04-06T13:51:34.914323Z",
     "iopub.status.idle": "2021-04-06T13:51:35.053791Z",
     "shell.execute_reply": "2021-04-06T13:51:35.053300Z"
    },
    "id": "rolled-credit",
    "outputId": "c59a9605-4a8b-4853-88cf-035bbae4810c",
    "papermill": {
     "duration": 0.462443,
     "end_time": "2021-04-06T13:51:35.053917",
     "exception": false,
     "start_time": "2021-04-06T13:51:34.591474",
     "status": "completed"
    },
    "tags": []
   },
   "outputs": [
    {
     "data": {
      "image/png": "[encoded data removed]",
      "text/plain": [
       "<Figure size 432x288 with 1 Axes>"
      ]
     },
     "metadata": {
      "needs_background": "light"
     },
     "output_type": "display_data"
    }
   ],
   "source": [
    "plt.plot(history.history['loss'], label='MAE training data')\n",
    "plt.plot(history.history['val_loss'], label='MAE validation data')\n",
    "plt.legend()\n",
    "plt.title('MAE for model')\n",
    "plt.ylabel('MAE')\n",
    "plt.xlabel('epoch')\n",
    "plt.show()"
   ]
  },
  {
   "cell_type": "code",
   "execution_count": 25,
   "id": "miniature-correspondence",
   "metadata": {
    "execution": {
     "iopub.execute_input": "2021-04-06T13:51:35.696855Z",
     "iopub.status.busy": "2021-04-06T13:51:35.685305Z",
     "iopub.status.idle": "2021-04-06T13:51:35.849818Z",
     "shell.execute_reply": "2021-04-06T13:51:35.849200Z"
    },
    "id": "differential-examination",
    "outputId": "39a1345e-9c21-487f-a5f8-741e256076bd",
    "papermill": {
     "duration": 0.490905,
     "end_time": "2021-04-06T13:51:35.849981",
     "exception": false,
     "start_time": "2021-04-06T13:51:35.359076",
     "status": "completed"
    },
    "tags": []
   },
   "outputs": [
    {
     "data": {
      "image/png": "[encoded data removed]",
      "text/plain": [
       "<Figure size 432x288 with 1 Axes>"
      ]
     },
     "metadata": {
      "needs_background": "light"
     },
     "output_type": "display_data"
    }
   ],
   "source": [
    "plt.plot(history.history['accuracy'], label='Accuracy training data')\n",
    "plt.plot(history.history['val_accuracy'], label='Accuracy validation data')\n",
    "plt.legend()\n",
    "plt.title('Model accuracy')\n",
    "plt.ylabel('Accuracy')\n",
    "plt.xlabel('epoch')\n",
    "plt.show()"
   ]
  }
 ],
 "metadata": {
  "kernelspec": {
   "display_name": "Python 3",
   "language": "python",
   "name": "python3"
  },
  "language_info": {
   "codemirror_mode": {
    "name": "ipython",
    "version": 3
   },
   "file_extension": ".py",
   "mimetype": "text/x-python",
   "name": "python",
   "nbconvert_exporter": "python",
   "pygments_lexer": "ipython3",
   "version": "3.7.9"
  },
  "papermill": {
   "default_parameters": {},
   "duration": 69.829458,
   "end_time": "2021-04-06T13:51:37.262699",
   "environment_variables": {},
   "exception": null,
   "input_path": "__notebook__.ipynb",
   "output_path": "__notebook__.ipynb",
   "parameters": {},
   "start_time": "2021-04-06T13:50:27.433241",
   "version": "2.3.2"
  }
 },
 "nbformat": 4,
 "nbformat_minor": 5
}
